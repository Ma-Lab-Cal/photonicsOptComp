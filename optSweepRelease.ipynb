{
  "nbformat": 4,
  "nbformat_minor": 0,
  "metadata": {
    "colab": {
      "provenance": []
    },
    "kernelspec": {
      "name": "python3",
      "display_name": "Python 3"
    },
    "language_info": {
      "name": "python"
    }
  },
  "cells": [
    {
      "cell_type": "markdown",
      "source": [
        "This notebook walks you through the optimization procedure used to compare ML optimizers for use in invDes. The notebook is currently configured for optimization of a 100 x 100 two-way mode splitter, but the structure and cost function may be modified to target any device.\n",
        "\n",
        "The parameters which determine structure, optimization phases, simulation, etc. can be found in the User Parameters section. Make sure to run each cell in sequence before performing an optimization in Run Optimization. See comments for details on what everything does."
      ],
      "metadata": {
        "id": "aLKJI7wjYXAh"
      }
    },
    {
      "cell_type": "markdown",
      "source": [
        "## Imports"
      ],
      "metadata": {
        "id": "L7f27fUflHXO"
      }
    },
    {
      "cell_type": "code",
      "execution_count": 91,
      "metadata": {
        "colab": {
          "base_uri": "https://localhost:8080/"
        },
        "id": "KVc_AX_ok_-o",
        "outputId": "69ee7104-db62-41af-a572-e8d32fac399f"
      },
      "outputs": [
        {
          "output_type": "stream",
          "name": "stdout",
          "text": [
            "GPU recognized, all is well.\n"
          ]
        }
      ],
      "source": [
        "from functools import partial\n",
        "from IPython import display\n",
        "import jax\n",
        "import jax.numpy as jnp\n",
        "from jax.example_libraries import optimizers\n",
        "import numpy as np\n",
        "import matplotlib.pyplot as plt\n",
        "import matplotlib\n",
        "import matplotlib.animation\n",
        "from mpl_toolkits.axes_grid1 import make_axes_locatable\n",
        "from PIL import Image, ImagePalette\n",
        "import pickle\n",
        "import optax\n",
        "import datetime\n",
        "import pjz\n",
        "from copy import deepcopy\n",
        "from jax.interpreters import xla\n",
        "import os\n",
        "import interpax\n",
        "import jaxopt\n",
        "jax.config.update(\"jax_debug_nans\", False)\n",
        "cpus = jax.devices(\"cpu\")\n",
        "gpus = jax.devices(\"gpu\")\n",
        "if len(gpus)==0:\n",
        "    print('The fdtdz simulator requires a cuda-equiped gpu. If you are reading this, such a gpu was not detected by JAX. This means either a) you do not have a cuda-equiped gpu, or b) your gpu is not currently communicating with jax within this python environment. This will need to be rectified before proceeding.')\n",
        "else:\n",
        "    print('GPU recognized, all is well.')"
      ]
    },
    {
      "cell_type": "markdown",
      "source": [
        "## User Parameters"
      ],
      "metadata": {
        "id": "nN-3V3fulg1P"
      }
    },
    {
      "cell_type": "markdown",
      "source": [
        "### The most important ones which you will frequently change"
      ],
      "metadata": {
        "id": "uUBNX7w7lmAv"
      }
    },
    {
      "cell_type": "code",
      "source": [
        "verbose=1 #Verbosity level. How often to print out current value of the cost function. Set to 0 for silent running.\n",
        "\n",
        "optimizer='adam' #What optimizer to use. Should be an optax optimizer, or 'L-BFGS-B'.\n",
        "learningRate=0.1 #Learning rate. Maximum learning rate if schedule is 'auto', static learning rate otherwise. Ignored for lbfgs\n",
        "staticMetaparameters={} #Any non-default hyperparams BESIDES learning rate. Keys are parameter names, entries are values.\n",
        "\n",
        "schedule='auto' #What scheduler to use. You can add your own, set it to 'auto' for independent cosine annealing w/ warm-up on each phase, or set it to None for static hyperparams. If 'auto' and metaOptimizer is not None, scheduling will NOT be used\n",
        "timePerIteration=2.165 #Seconds per iteration. Necessary to determine cosine periods in schedule if 'auto' This entirely depends upon your gpu, the simulation domain, the simualtion time, and the launch_params in Simulation Parameters. Just run a few iterations and see how long they take.\n",
        "\n",
        "metaOptimizer=None#'sgd' #What meta-optimizer to use. Set to None for no meta-optimization\n",
        "parametersToMetaOptimize={'learning_rate':0.1} #Parameters to meta-optimize, with initial values. If you want to metaOpt learning rate, include 'learning_rate' here, with an init value which will override learningRate\n",
        "metaLearningRate=1. #Learning rate for meta-optimizer\n",
        "innerPerOuter=4 #Number of inner iterations per outer iteration\n",
        "staticMetaMetaparameters={} #Any non-default hyperparams BESIDES learning rate for the metaoptimizer.\n",
        "\n",
        "inputFile='inTest.txt' #Input file, storing the initial density distribution as a pickled jax.numpy.array. If None, a random init will be generated using parameters in Optimization Parameters. If not None, but pointing to a nonexistent file, this random init will be pickled to the requested file.\n",
        "modeFile='modeTest.txt' #Input file, a pickled dictionary with mode wavenumbers as entry 'invariantBetas' and mode profiles as entry 'invariantModes'. If None, modes will be computed prior to computation. If not None, but pointing to a nonexistent file, these modes will be pickled to the requested file.\n",
        "outputFile='outTest.txt' #Output file. If not None, the evo dictionary will be pickled to this location. Otherwise, data will not be automatically saved to file."
      ],
      "metadata": {
        "id": "TRunf2KHlgFl"
      },
      "execution_count": 75,
      "outputs": []
    },
    {
      "cell_type": "markdown",
      "source": [
        "### PRNG key"
      ],
      "metadata": {
        "id": "CR2dO-CCsKMx"
      }
    },
    {
      "cell_type": "code",
      "source": [
        "prngkey=jax.random.key(2)"
      ],
      "metadata": {
        "id": "FUNdO1ensL8B"
      },
      "execution_count": 76,
      "outputs": []
    },
    {
      "cell_type": "markdown",
      "source": [
        "### Structure Parameters"
      ],
      "metadata": {
        "id": "F_lYyjr7sDxw"
      }
    },
    {
      "cell_type": "code",
      "source": [
        "nanometersPerCell=40 #nm per cell. Currently this is configured for cubic meshes only (250,220)\n",
        "designRegionSize=jnp.array((200,200)) #Size of the xy plane of the design region, in cells. In both the 'PV' and 'TW' methods, this is the size of the array of control parameters\n",
        "symmetryAxis=None #Axis about which design will be symmetric. Options are 'x', 'y', and 'xy' (or None for no symmetry)\n",
        "designRegionThickness=6 #Size of the design region in the z-direction. The xy plane structures will be extruded in this dimension\n",
        "xyPadWidth=100 #Thickness of the pad region in the xy plane, which surrounds the design region, in cells. This many cells will be added to each side of the design region\n",
        "zPadWith=49 #Thickness of the pad region in the z-direction, above and below the design region, in cells.\n",
        "xyAbsorptionWidth=50 #How many layers of adiabatic absorber BEYOND the xyPad to add to each side of the sim region\n",
        "xyAbsorptionCoeff=1e-4 #Strength of absorption layer. Too small and waves will sail though the absorption region and reflect off the far wall. Too large and they will reflect off the front endge of the absorption region\n",
        "zPMLWidth=12 #How many PMLs to add in the z-direction. This will be reduced to the nearest multiple of 4 for efficiency reasons\n",
        "permitivityRange=jnp.array((2.1,12.1)) #Minimum/maximum permitivity. The binarized design will consist entirely of either permitivityRange[0] or permitivityRange[1]\n",
        "filtRad=1 #Controls density filter, which \"blurs\" the design to correllate nearby pixels. This is done by convolution with a code filter of this radius.\n",
        "\n",
        "#This is how input/output is defined. Each waveguide gets a dictionary in this list. Waveguides will be added in the order in which they appear in this list (so the first\n",
        "#dictionary defines waveguide 0, the second waveguide 1, etc.)\n",
        "waveguideDictionary=[{'wgWidth':36, #Width of waveguide. If >=1, width in cells. If <1, width in % design region length (so 0.1 = 10% of that face's length)\n",
        "                      'wgPerm':12.1, #Permitivity of the waveguide. Must be within permitivityRange\n",
        "                      'wgFace':'w', #Which face to place the waveguide on. Options are 'n', 's', 'e', 'w'.\n",
        "                      'wgLocation':0.5, #How far along face to place the waveguide. If >=1, distance in cells from start of DESIGN REGION (no pad). If <1, width in % face length\n",
        "                      'wgMode':0, #Which mode to inject (if Input) or search for (if Output) in this waveguide. 0 is (usually) TE00, 1 is (usually) TE10, etc. Modes are sorted by descending wavenumber\n",
        "                      'wgInjectionLocation':2, #How far along the the waveguide to place the source plane, in cells. 0 means source plane will be at the boarder of the sim domain.\n",
        "                      'wgInput':True}, #Whether this waveguide is an Input or Output\n",
        "                     {'wgWidth':36,'wgPerm':12.1,'wgFace':'w', 'wgLocation':0.5,'wgMode':1,'wgInjectionLocation':2,'wgInput':True},\n",
        "                     {'wgWidth':20,'wgPerm':12.1,'wgFace':'e', 'wgLocation':0.2,'wgMode':0,'wgInjectionLocation':1,'wgInput':False},\n",
        "                     {'wgWidth':20,'wgPerm':12.1,'wgFace':'e', 'wgLocation':0.8,'wgMode':0,'wgInjectionLocation':1,'wgInput':False},]"
      ],
      "metadata": {
        "id": "JazmxZRqsCaA"
      },
      "execution_count": 77,
      "outputs": []
    },
    {
      "cell_type": "markdown",
      "source": [
        "### Simulation Parameters"
      ],
      "metadata": {
        "id": "78V1Tvgssy1a"
      }
    },
    {
      "cell_type": "code",
      "source": [
        "picosecondsPerStep=0.6 #Scaled time per timestep\n",
        "totalTimeSteps='auto' #Total number of time steps each simualtion. If it's too small, we won't reach steady state. If it's too large, numerical error will make the sim explode. Set to 'auto' to base it on design region size, assuming 1550nm light and a timestep of 0.6.\n",
        "inputWavelengths=jnp.array([1550]) #Wavelengths of inputs, in nanometers\n",
        "outputWavelengthRange=(1450,1650) #Wavelength range of outputs, for use in the FFT. Ideal number of output snapshots will be recorded based on this\n",
        "sourceRamp=8. #How many periods to spin up the input to max strength\n",
        "sourceDelay=4. #How many periods to wait before starting to spin up the input. Should be nonzero for stability reasons.\n",
        "\n",
        "#The fdtdz simulator is very fast because it is designed to maximize GPU utilization by efficiently partitioning the spatio-temporal space to minimize the amount of memory\n",
        "#that needs to be cached at any given time. How to do this partioning optimally depends upon your GPU, so you will need to enter some specs. If using Colab's cloud hardware,\n",
        "#set launchParams to None and the code will automatically choose optimal settings. Descriptions come from fdtdz docstring\n",
        "launchParams=((2, 4), #determines the layout of warps in the u- and v-directions within a block and should be ``(2, 4)`` or ``(4, 2)``\n",
        "               (7,6), #specify the layout of blocks on the GPU and must be equal to or less than the number of streaming multiprocessors on the GPU because of the need for grid-wide synchronization\n",
        "               1, #controls the number of buffers used between each block and its downstream neighbor and should be tuned to balance between reducing grid synchronization overhead and staying within the limits of the L2 cache\n",
        "               (8, 0)) #major and minor compute capability of the device. Used to determine which precompiled kernel to use. Currently allowed values are ``(3, 7)``, ``(6, 0)``, ``(7, 0)``, ``(7, 5)``, and ``(8, 0)``."
      ],
      "metadata": {
        "id": "0vLhL3YFsxxq"
      },
      "execution_count": 78,
      "outputs": []
    },
    {
      "cell_type": "markdown",
      "source": [
        "### Optimization Parameters"
      ],
      "metadata": {
        "id": "2ynh1_N9stRK"
      }
    },
    {
      "cell_type": "code",
      "source": [
        "maxIterations=500 #Maximum total iterations before forcible termination.\n",
        "maxTime=5*60#Maximum time before forcible termination, in seconds\n",
        "ftol=1e-12 #Maximum realtive change in objective before termination. Will terminate when abs(L[-2]-L[-1])/L[-1]<=ftol\n",
        "corrLen=80 #Correllation length if autogenerating init_theta. Shouldn't have to say this, but do make sure it is not bigger than the simulation domain size. Has no effect if init_theta is not None\n",
        "minv=-0.05 #min initial value if autogenerating init_theta. Theta is unconstrained, varying in theory from -inf to inf. In practice, rarely leaves [-3,3]. It is passed through a sigmoid to project to [0,1]\n",
        "maxv=0.05 #max initial value if autogenerating init_theta.\n",
        "\n",
        "#Optimization is governed by a scheduler (different from the \"schedule\" above). The scheduler is called every iteration, and returns one or more values as a dictionary to change the course of optimization. Iteration=0 is called before optimization begins. You do not need to return use all arguments in this dictionary on\n",
        "#any given iteration. Parameters not updated in this dictionary retain their values from the last iteration or, in the case of iteration=0, adopt default values.\n",
        "#In my scheduler, I break optimization into four phases: continuum, discretization, settling, and DRC\n",
        "t1=6*60*(5/20) #Time at which continuum ends/ discretization begins\n",
        "t2=12*60*(5/20) #Time at which discretization ends / settling begins\n",
        "t3=16*60*(5/20) #Time at which settline ends / DRC begins\n",
        "def scheduler(iteration, #Current iteration. Iteration=0 is before optimization begins.\n",
        "              params, #Current set of PROJECTED optimization parameters (the density, in [0,1], 1 being permitivityRange[1], 0 being permitivityRange[0])\n",
        "              previousL, #Last iteration's cost function\n",
        "              previousPreviousL,\n",
        "              time): #Iteration before last's cost function (np.inf for iteration=0)\n",
        "    global currentEpoch,t1,t2,t3\n",
        "    returnDictionary={'alpha':0, #Controls discretization. Must be in [0,1]. Density sent to permitivity computer is [continuum density]*(1-alpha)+[discretized density]*alpha\n",
        "                      'eta':0.5, #Discretization threshold. Any density below this number is mapped to permitivityRange[0] in [discretized density], and density above is mapped to permitivityRange[1]\n",
        "                      'gamma':0, #Controls fabrication constraint penalty. Full objective function is [performance objective]+gamma*[fabrication objective]. For TW method.\n",
        "                      'c':1e3, #Inflection detection sensitivity for fab constraint computation. For TW method.\n",
        "                      'eta_lo':0.25, #Minimum feature size for density=0 features. For TW method.\n",
        "                      'eta_hi':0.75, #Minimum feature size for density=1 features. For TW method.\n",
        "                      'noiseInjection':None, #Whether to inject artificaly noise into the density parameters. If not None, [new params]=[old params]*noiseInjection*jax.random.uniform(key=prngkey,shape=params.shape(),minval=-1+noiseInjection,maxval=1-noiseInjection). For TW method.\n",
        "                      't':1.0, #Gaussian kernal length scale. For PV method.\n",
        "                      'd':0.005, #Minimum gap size, in % total length. For PV method.\n",
        "                      'r':0.005, #Minimum radius of curvature, in % total length. For PV method.\n",
        "                      'beta':0.33, #Gap detection parameter. For PV method.\n",
        "                      'gapPenalty':0, #Scale factor on gapLoss. For PV method.\n",
        "                      'curvePenalty':0} #Scale factor on curveLoss. For PV method.\n",
        "    dt=t2-t1\n",
        "    currentEpoch=0\n",
        "    if time>=t1:\n",
        "        returnDictionary['alpha']=(time-t1)/dt #alpha increases linearly from 0 to 1 during discretization\n",
        "        currentEpoch=1\n",
        "    if time>=t2:\n",
        "        returnDictionary['alpha']=1\n",
        "        currentEpoch=2\n",
        "    if time>=t3:\n",
        "        returnDictionary['gamma']=2#Gamma is just a static blast as soon as DRC starts. A dynamic gamma would be more elegent.\n",
        "        currentEpoch=3\n",
        "    return returnDictionary\n",
        "\n",
        "#This is where you define your performance objctive. THIS FUNCTION MUST BE JAX-TRACEABLE (use jnp or jax.scipy, no normal numpy, scipy, torch, etc.)\n",
        "#An additional component of fabriaction loss, from three-wave inflection detection, will be added external to this function. Use floss if you have some other fab constraint beyond this\n",
        "@jax.jit\n",
        "def performanceObjective(svals, #The scattering matrix. svals[i][j][k]=mode overlap from waveguide i to waveguide j at frequency k\n",
        "                         frequencies, #The angular frequencies, in mesh units\n",
        "                         params): #The current set of RAW unconstrained optimization parameters, before projection\n",
        "\n",
        "    ploss,floss=-jnp.linalg.norm(svals[0][2][0])-jnp.linalg.norm(svals[1][3][0]),0\n",
        "    return floss+ploss, (ploss,floss) #Return two values: the total loss, and a tuple with seperate fab and performance loss to record later\n",
        "performanceObjectiveRecord='-jnp.linalg.norm(svals[0][0][1][0])-jnp.linalg.norm(svals[1][0][2][0])-jnp.linalg.norm(svals[2][0][3][0])' #I cannot save the performance objective function, so write out something that will let you reconstruct it later to be added to the pickled results file"
      ],
      "metadata": {
        "id": "z_KhtYeEsv-C"
      },
      "execution_count": 80,
      "outputs": []
    },
    {
      "cell_type": "markdown",
      "source": [
        "## Parameter Processing"
      ],
      "metadata": {
        "id": "u4L_SIDH0LAP"
      }
    },
    {
      "cell_type": "markdown",
      "source": [
        "### init generation"
      ],
      "metadata": {
        "id": "pTv7pnvz0PT3"
      }
    },
    {
      "cell_type": "code",
      "source": [
        "def correllatedRandom(size,corrLen=corrLen,minv=minv,maxv=maxv,prngkey=prngkey):\n",
        "    x,y=jnp.arange(-corrLen,corrLen),jnp.arange(-corrLen,corrLen)\n",
        "    X,Y=jnp.meshgrid(x,y)\n",
        "    dist=jnp.sqrt(X**2+Y**2)\n",
        "    filt=jnp.exp(-dist**2/(2*corrLen))\n",
        "    noise=jax.random.uniform(key=prngkey,shape=size,minval=minv,maxval=maxv)\n",
        "    return jax.scipy.signal.convolve(noise,filt,mode='same')\n",
        "if inputFile is not None:\n",
        "    if os.path.isfile(inputFile):\n",
        "         f=open(inputFile,'rb')\n",
        "         init_theta=pickle.load(f)\n",
        "         f.close()\n",
        "    else:\n",
        "        init_theta=correllatedRandom(designRegionSize)\n",
        "        write_file=open(inputFile,'wb')\n",
        "        pickle.dump(init_theta,write_file)\n",
        "        write_file.close()\n",
        "else:\n",
        "    init_theta=correllatedRandom(designRegionSize)"
      ],
      "metadata": {
        "id": "mHr3lKRF0SSN"
      },
      "execution_count": 82,
      "outputs": []
    },
    {
      "cell_type": "markdown",
      "source": [
        "### deal with autos"
      ],
      "metadata": {
        "id": "I38BzmBR1cNr"
      }
    },
    {
      "cell_type": "code",
      "source": [
        "if totalTimeSteps=='auto' or totalTimeSteps is None:\n",
        "    if jnp.max(designRegionSize)//2<=50:\n",
        "        totalTimeSteps,timeFactor=2500,2.4\n",
        "    elif jnp.max(designRegionSize)//2<=100:\n",
        "        totalTimeSteps,timeFactor=3000,3.3\n",
        "    elif jnp.max(designRegionSize)//2<=150:\n",
        "        totalTimeSteps,timeFactor=4000,4.1\n",
        "    elif jnp.max(designRegionSize)//2<=200:\n",
        "        totalTimeSteps,timeFactor=5000,5.8\n",
        "    elif jnp.max(designRegionSize)//2<=250:\n",
        "        totalTimeSteps,timeFactor=5500,7.36\n",
        "    elif jnp.max(designRegionSize)//2<=300:\n",
        "        totalTimeSteps,timeFactor=6000,9.6\n",
        "    else:\n",
        "        totalTimeSteps,timeFactor=7000,13.1\n",
        "\n",
        "if schedule.lower()=='auto':\n",
        "    periods=np.array([t1,t2-t1,t3-t2,maxTime-t3])/timePerIteration #1.055 seconds per iteration for 180 x 180 wl trimux with 3000steps, 3.3sec factor, so this is #iterations per epoch (1.453 for 230 x 230 with 4000steps, 4.1sec, 1.535 for 280 x 280 with 5000steps, 5.8sec)\n",
        "    runningPeriods=np.array([t1,t2,t3])/timePerIteration\n",
        "    scheduleLis=[]\n",
        "    for period in periods:\n",
        "        scheduleLis.append(optax.warmup_cosine_decay_schedule(init_value= learningRate/10, peak_value= learningRate, warmup_steps= period*0.1, decay_steps= period, end_value = learningRate/10, exponent = 1.0))\n",
        "    if metaOptimizer is None:\n",
        "        schedule=optax.join_schedules(scheduleLis,runningPeriods)\n",
        "    else:\n",
        "        schedule=None"
      ],
      "metadata": {
        "id": "uAtYSfQ61eL6"
      },
      "execution_count": 83,
      "outputs": []
    },
    {
      "cell_type": "markdown",
      "source": [
        "### set globals"
      ],
      "metadata": {
        "id": "MXxv2RkV03LR"
      }
    },
    {
      "cell_type": "code",
      "source": [
        "#I've gone to great trouble to avoid having to register a custom class as a tree with jax. This involves a lot of global variables\n",
        "def process_parameters():\n",
        "    global omegas,optimizers\n",
        "    omegas=2*jnp.pi/(inputWavelengths/nanometersPerCell)\n",
        "    optimizers={'adabelief':optax.adabelief,'adafactor':optax.adafactor,'adagrad':optax.adagrad,'adam':optax.adam,'adamw':optax.adamw,'adamax':optax.adamax,\n",
        "                'adamaxw':optax.adamaxw,'amsgrad':optax.amsgrad,'fromage':optax.fromage,'lamb':optax.lamb,'lars':optax.lars,'lion':optax.lion,'nadam':optax.nadam,'nadamw':optax.nadamw,\n",
        "                'noisy_sgd':optax.noisy_sgd,'novograd':optax.novograd,'optimistic_gradient_descent':optax.optimistic_gradient_descent,'polyak_sgd':optax.polyak_sgd,'radam':optax.radam,\n",
        "                'sgd':optax.sgd,'sm3':optax.sm3,'yogi':optax.yogi,'rprop':optax.rprop,'rmsprop':optax.rmsprop,'adadelta':optax.adadelta}\n",
        "    return\n",
        "process_parameters()\n",
        "\n",
        "def get_globalParamDict():\n",
        "    global prngkey,nanometersPerCell,designRegionSize,schedule,timePerIteration,inputFile,modeFile,symmetryAxis,designRegionThickness,xyPadWidth,zPadWith,xyAbsorptionWidth,xyAbsorptionCoeff,zPMLWidth,permitivityRange,filtRad,waveguideDictionary,picosecondsPerStep,totalTimeSteps,inputWavelengths,outputWavelengthRange,sourceRamp,sourceDelay,launchParams,optimizer,learningRate,optimizerParameters,parameterizationMethod,verbose,maxIterations,maxTime,ftol,corrLen,minv,maxv,performanceObjectiveRecord\n",
        "    return{'prngkey':prngkey,'nanometersPerCell':nanometersPerCell,'designRegionSize':designRegionSize,'timePerIteration':timePerIteration,'inputFile':inputFile,'modeFile':modeFile,\n",
        "           'symmetryAxis':symmetryAxis,'designRegionThickness':designRegionThickness,'xyPadWidth':xyPadWidth,'zPadWith':zPadWith,'xyAbsorptionWidth':xyAbsorptionWidth,'xyAbsorptionCoeff':xyAbsorptionCoeff,'zPMLWidth':zPMLWidth,\n",
        "           'permitivityRange':permitivityRange,'filtRad':filtRad,'waveguideDictionary':waveguideDictionary,'picosecondsPerStep':picosecondsPerStep,'totalTimeSteps':totalTimeSteps,'inputWavelengths':inputWavelengths,\n",
        "           'outputWavelengthRange':outputWavelengthRange,'sourceRamp':sourceRamp,'sourceDelay':sourceDelay,'launchParams':launchParams,'optimizer':optimizer,'learningRate':learningRate,'staticMetaparameters':staticMetaparameters,\n",
        "           'verbose':verbose,'maxIterations':maxIterations,'maxTime':maxTime,'ftol':ftol,'corrLen':corrLen,'minv':minv,'maxv':maxv,'performanceObjectiveRecord':performanceObjectiveRecord,\n",
        "           'metaOptimzer':metaOptimizer,'metaLearningRate':metaLearningRate,'staticMetaMetaparameters':staticMetaMetaparameters,'parametersToMetaOptimize':parametersToMetaOptimize,'innerPerOuter':innerPerOuter}\n",
        "def set_globalParamDict(gpd):\n",
        "    global prngkey,nanometersPerCell,designRegionSize,schedule,timePerIteration,inputFile,modeFile,symmetryAxis,designRegionThickness,xyPadWidth,zPadWith,xyAbsorptionWidth,xyAbsorptionCoeff,zPMLWidth,permitivityRange,filtRad,waveguideDictionary,picosecondsPerStep,totalTimeSteps,inputWavelengths,outputWavelengthRange,sourceRamp,sourceDelay,launchParams,optimizer,learningRate,optimizerParameters,parameterizationMethod,verbose,maxIterations,maxTime,ftol,corrLen,minv,maxv,performanceObjectiveRecord\n",
        "    prngkey=gpd['prngkey']\n",
        "    nanometersPerCell=gpd['nanometersPerCell']\n",
        "    designRegionSize=gpd['designRegionSize']\n",
        "    timePerIteration=gpd['timePerIteration']\n",
        "    inputFile=gpd['inputFile']\n",
        "    modeFile=gpd['modeFile']\n",
        "    symmetryAxis=gpd['symmetryAxis']\n",
        "    designRegionThickness=gpd['designRegionThickness']\n",
        "    xyPadWidth=gpd['xyPadWidth']\n",
        "    zPadWith=gpd['zPadWith']\n",
        "    xyAbsorptionWidth=gpd['xyAbsorptionWidth']\n",
        "    xyAbsorptionCoeff=gpd['xyAbsorptionCoeff']\n",
        "    zPMLWidth=gpd['zPMLWidth']\n",
        "    permitivityRange=gpd['permitivityRange']\n",
        "    filtRad=gpd['filtRad']\n",
        "    waveguideDictionary=gpd['waveguideDictionary']\n",
        "    picosecondsPerStep=gpd['picosecondsPerStep']\n",
        "    totalTimeSteps=gpd['totalTimeSteps']\n",
        "    inputWavelengths=gpd['inputWavelengths']\n",
        "    outputWavelengthRange=gpd['outputWavelengthRange']\n",
        "    sourceRamp=gpd['sourceRamp']\n",
        "    sourceDelay=gpd['sourceDelay']\n",
        "    launchParams=gpd['launchParams']\n",
        "    optimizer=gpd['optimizer']\n",
        "    learningRate=gpd['learningRate']\n",
        "    optimizerParameters=gpd['optimizerParameters']\n",
        "    parameterizationMethod=gpd['parameterizationMethod']\n",
        "    verbose=gpd['verbose']\n",
        "    maxIterations=gpd['maxIterations']\n",
        "    maxTime=gpd['maxTime']\n",
        "    ftol=gpd['ftol']\n",
        "    corrLen=gpd['corrLen']\n",
        "    minv=gpd['minv']\n",
        "    maxv=gpd['maxv']\n",
        "    performanceObjectiveRecord=gpd['performanceObjectiveRecord']\n",
        "    metaOptimizer=gpd['metaOptimizer']\n",
        "    metaLearningRate=gpd['metaLearningRate']\n",
        "    metaOptimizerParameters=gpd['metaOptimizerParameters']\n",
        "    parametersToMetaOptimize=gpd['parametersToMetaOptimize']\n",
        "    innerPerOuter=gpd['innerPerOuter']\n",
        "    return\n",
        "defaultSchedDict={'alpha':0,'eta':0.5,'gamma':0,'c':1e3,'eta_lo':0.25,'eta_hi':0.75,'radius':10,'noiseInjection':None,'t':1.0,'d':0.005,'r':0.005,'beta':0.33,'gapPenalty':0,'curvePenalty':0}"
      ],
      "metadata": {
        "id": "bUhaooUM0_jh"
      },
      "execution_count": 84,
      "outputs": []
    },
    {
      "cell_type": "markdown",
      "source": [
        "## Simulation code"
      ],
      "metadata": {
        "id": "9h01FBGw4nir"
      }
    },
    {
      "cell_type": "markdown",
      "source": [
        "### Params -> permitivity"
      ],
      "metadata": {
        "id": "YNdtwVz640pc"
      }
    },
    {
      "cell_type": "code",
      "source": [
        "def addWaveguides(u,theta,schedDict):\n",
        "    \"\"\"\n",
        "    Adds waveguide to u.\n",
        "\n",
        "    Arguments:\n",
        "    u: jax array. the padded density without waveguides\n",
        "    schedDict: dictionary. The scheduler dictionary.\n",
        "\n",
        "    Returns:\n",
        "    u: jax array. the padded density with waveguides\n",
        "    wgDs: list of lists. Waveguide slices, such that wgDs[i]=[x-direction left extent, x-direction right extent, y-direction left extent, y-direction right extent] for waveguide i\n",
        "    \"\"\"\n",
        "    dS=jnp.shape(theta)\n",
        "    wgDs,wgFaceMap=[],{'n':0,'s':0,'e':1,'w':1} #The wgFaceMap maps cardinal direction strings to the axis normal to the waveguide\n",
        "    for wgd in waveguideDictionary: #For each input and output waveguide\n",
        "        wgw,wgl=int(wgd['wgWidth']*(dS[wgFaceMap[wgd['wgFace'].lower()]])**(wgd['wgWidth']<1)),xyPadWidth+int(wgd['wgLocation']*(dS[wgFaceMap[wgd['wgFace'].lower()]])**(wgd['wgLocation']<1)) #Determine the width and length of this waveguide, depending upon whether provided dimensions are in cells or in % total length\n",
        "        if wgd['wgFace']=='n': #For each cardinal direction, make a note of which cells lie inside the waveguide\n",
        "            wgDs.append([wgl-wgw//2,wgl+wgw//2,-1*xyPadWidth,None])\n",
        "        elif wgd['wgFace']=='s':\n",
        "            wgDs.append([wgl-wgw//2,wgl+wgw//2,None,xyPadWidth])\n",
        "        elif wgd['wgFace']=='e':\n",
        "            wgDs.append([-int(xyPadWidth),None,wgl-wgw//2,wgl+wgw//2])\n",
        "        elif wgd['wgFace']=='w':\n",
        "            wgDs.append([None,xyPadWidth,wgl-wgw//2,wgl+wgw//2])\n",
        "        u=u.at[wgDs[-1][0]:wgDs[-1][1],wgDs[-1][2]:wgDs[-1][3]].set((wgd['wgPerm']-permitivityRange[0])/(permitivityRange[1]-permitivityRange[0]))#Add the waveguide to the density.\n",
        "    return u,wgDs\n",
        "\n",
        "def density(params,schedDict,modeComp=False):\n",
        "    \"\"\"\n",
        "    Transforms data into a smooth function across the simulation space using the Three Wave method. All distances are measured as a % of the design region length (so 15% of design region means t=0.15,d=0.15, etc.)\n",
        "\n",
        "    Arguments:\n",
        "    params: jax array, sig (Dx,Dy). The RAW control parameter array\n",
        "    schedDict: dictionary. The scheduler dictionary. For use with params2densityTW(), schedDict should have entries 'c' (the inflection detection threshold, try 1e3), 'eta' (level-set threshold, try 0.5), 'eta_lo' (minimum feature size for permitivity0, try 0.25), 'eta_hi' (minimum feature size for permitivity1, try 0.25), 'alpha' (% discretization), 'gamma' (fabrication constraint penalty)\n",
        "    modeComp: bool. Whether this function has been called in order to compute modes, or else to process design prameter\n",
        "    Returns:\n",
        "    if modeComp:\n",
        "        u: jax array, the padded density with waveguides\n",
        "        ubase: jax array, the padded density without waveguides. Jax trace is broken at ubase creation\n",
        "        wgDs: list of lists. Waveguide slices, such that wgDs[i]=[x-direction left extent, x-direction right extent, y-direction left extent, y-direction right extent] for waveguide i\n",
        "    else:\n",
        "        density: jax array. The padded density with waveguides and appropriate continuum-discrete ratio\n",
        "        fabLoss: saclar. The total fabrication loss, scaled by schedDict['gamma']\n",
        "    \"\"\"\n",
        "    sad={'x':1,'y':0,'xy':(0,1)}#The symmetry axis dictionary. The symmetry axis dictionary is perennially depressed.\n",
        "    if symmetryAxis is not None: #if the user desires symmetry, make it so\n",
        "        params=(params+ jnp.flip(params.T, axis=sad[symmetryAxis.lower()])) / 2\n",
        "    thetaProj=jax.nn.sigmoid(params)#The raw parameters are unconstrained. map (-inf,inf) to (0,1)\n",
        "    u = jnp.pad(thetaProj, xyPadWidth) #Pad the density\n",
        "    if modeComp:\n",
        "        ubase=jax.lax.stop_gradient(jnp.copy(u)) # retrieve the waveguide-free density\n",
        "    u,wgDs=addWaveguides(u,params,schedDict)\n",
        "    a = jnp.pad(schedDict['alpha'] * jnp.ones_like(params), xyPadWidth, constant_values=1)#The pad region should always be binary, so make the discretization parameter 1 across this region\n",
        "    density, density_loss = pjz.density(u, filtRad, a, c=schedDict['c'],eta=schedDict['eta'],eta_lo=schedDict['eta_lo'],eta_hi=schedDict['eta_hi'])\n",
        "    density,wgDs=addWaveguides(density,params,schedDict) #add the waveguides\n",
        "    if modeComp: #return what the user asked for based on modeComp\n",
        "        return density,ubase,wgDs\n",
        "    else:\n",
        "        return density,schedDict['gamma']*density_loss\n",
        "\n",
        "def permittivity(density):\n",
        "  layers = jnp.pad(density[None, :, :], ((1, 1), (0, 0), (0, 0)))\n",
        "  layers = layers * (permitivityRange[1] - permitivityRange[0]) + permitivityRange[0]\n",
        "  thicknesses = [zPadWith, designRegionThickness, zPadWith]\n",
        "  return pjz.epsilon(layers,interface_positions=jnp.cumsum(jnp.array(thicknesses[:-1])),magnification=1,zz=sum(thicknesses))"
      ],
      "metadata": {
        "id": "6I9hkKRc42Yq"
      },
      "execution_count": 85,
      "outputs": []
    },
    {
      "cell_type": "markdown",
      "source": [
        "### Modes"
      ],
      "metadata": {
        "id": "ORPhuIxY5JzV"
      }
    },
    {
      "cell_type": "code",
      "source": [
        "def modes(theta,schedDict,):\n",
        "    _,ubase,wgDs=density(theta,schedDict,modeComp=True)\n",
        "    betas,profiles=[],[]\n",
        "    ppMapDict={'n':[None,None,-1,None],'s':[None,None,0,1],'e':[-1,None,None,None],'w':[0,1,None,None]}\n",
        "    for wgd,wgD in zip(waveguideDictionary, wgDs):\n",
        "        uu=ubase.at[wgD[0]:wgD[1],wgD[2]:wgD[3]].set((wgd['wgPerm']-permitivityRange[0])/(permitivityRange[1]-permitivityRange[0]))\n",
        "        pp=permittivity(uu)\n",
        "        plt.imshow(uu)\n",
        "        plt.show()\n",
        "        ppM=ppMapDict[wgd['wgFace'].lower()]\n",
        "        b,m,_,_=pjz.mode(pp[:, ppM[0]:ppM[1], ppM[2]:ppM[3], :],omegas,num_modes=wgd['wgMode']+1)\n",
        "        betas.append(jax.lax.stop_gradient(b[..., wgd['wgMode']]))\n",
        "        profiles.append(jax.lax.stop_gradient(m[..., wgd['wgMode']]))\n",
        "    return jnp.array(betas),profiles\n",
        "if modeFile is not None:\n",
        "    if os.path.isfile(modeFile):\n",
        "        f=open(modeFile,'rb')\n",
        "        modesDict=pickle.load(f)\n",
        "        f.close()\n",
        "        invariantBetas,invariantModes=modesDict['invariantBetas'],modesDict['invariantModes']\n",
        "    else:\n",
        "        invariantBetas,invariantModes=modes(jnp.ones(designRegionSize)*1000,scheduler(0,jnp.ones(designRegionSize),jnp.inf,jnp.inf,0))\n",
        "        modesDict={'invariantBetas':invariantBetas,'invariantModes':invariantModes}\n",
        "        write_file=open(modeFile,'wb')\n",
        "        pickle.dump(modesDict,write_file)\n",
        "        write_file.close()\n",
        "else:\n",
        "    invariantBetas,invariantModes=modes(jnp.ones(designRegionSize)*1000,scheduler(0,jnp.ones(designRegionSize),jnp.inf,jnp.inf,0))"
      ],
      "metadata": {
        "id": "4pQzep_T5LmV"
      },
      "execution_count": 86,
      "outputs": []
    },
    {
      "cell_type": "markdown",
      "source": [
        "### Params -> loss"
      ],
      "metadata": {
        "id": "hg5-QQwz5u4u"
      }
    },
    {
      "cell_type": "code",
      "source": [
        "def convertInjectLoc(p):\n",
        "    pS=jnp.shape(p)\n",
        "    rl=[]\n",
        "    for wgd in waveguideDictionary:\n",
        "        if wgd['wgFace'].lower()=='w' or wgd['wgFace'].lower()=='s':\n",
        "            rl.append(wgd['wgInjectionLocation'])\n",
        "        elif wgd['wgFace'].lower()=='e':\n",
        "            rl.append(pS[1]-wgd['wgInjectionLocation'])\n",
        "        elif wgd['wgFace'].lower()=='n':\n",
        "            rl.append(pS[2]-wgd['wgInjectionLocation'])\n",
        "    return tuple(rl)\n",
        "\n",
        "def build(theta, schedDict):\n",
        "    d, d_loss = density(theta,schedDict)\n",
        "    p = permittivity(d)\n",
        "    sim_params = pjz.SimParams(omega_range=(2*np.pi/(outputWavelengthRange[1]/nanometersPerCell),2*np.pi/(outputWavelengthRange[0]/nanometersPerCell)),dt=picosecondsPerStep,tt=totalTimeSteps,\n",
        "                                pml_sigma_lnr=0.1,pml_sigma_m=1.0,pml_widths=(zPMLWidth,zPMLWidth),launch_params=launchParams,\n",
        "                                source_ramp=sourceRamp,source_delay=sourceDelay,absorption_padding=xyAbsorptionWidth,\n",
        "                                absorption_coeff=xyAbsorptionCoeff)\n",
        "    return p, d, d_loss, convertInjectLoc(p), tuple([wgd['wgInput'] for wgd in waveguideDictionary]), sim_params\n",
        "\n",
        "def loss(theta,schedDict):\n",
        "  p, d, d_loss, mpos, is_fwd, sim_params = build(theta, schedDict)\n",
        "  svals=jnp.array(pjz.scatter(p, omegas, tuple(invariantModes), tuple(invariantBetas), tuple(mpos), tuple(is_fwd), sim_params))\n",
        "  performance_loss,(ploss,floss) = performanceObjective(svals, omegas,d)\n",
        "  fabrication_loss = jnp.sum(jnp.square(d_loss))\n",
        "  total_loss = performance_loss + schedDict['gamma'] * jnp.nan_to_num(fabrication_loss,0)\n",
        "  return total_loss, (ploss, fabrication_loss+floss)"
      ],
      "metadata": {
        "id": "eYawZusM53Bf"
      },
      "execution_count": 87,
      "outputs": []
    },
    {
      "cell_type": "markdown",
      "source": [
        "##Optimization code"
      ],
      "metadata": {
        "id": "f-vEzlz86Afv"
      }
    },
    {
      "cell_type": "code",
      "source": [
        "def optimize(optimizerParameters,debug=None):\n",
        "    if optimizer in ['Nelder-Mead','Powell','CG','BFGS','Newton-CG','L-BFGS-B','TNC','COBYLA','SLSQP','trust-constr','dogleg','trust-ncg','trust-exact','trust-krylov']:\n",
        "        evo=optimize_jaxopt(optimizerParameters,debug=debug)\n",
        "    else:\n",
        "        evo=optimize_optax(optimizerParameters,debug=debug)\n",
        "    return evo\n",
        "\n",
        "def optimize_jaxopt(optimizerParameters,debug=None):\n",
        "    schedDict=scheduler(0,init_theta,np.inf,np.inf,0)\n",
        "    evo,it=[{'loss':0,'ploss':0,'floss':0,'params':None,'time':0,'schedDict':deepcopy(schedDict)}],0\n",
        "    ct=0\n",
        "    gradient=None\n",
        "    lsit=0\n",
        "    def dummyLoss(params):\n",
        "        nonlocal evo,gradient,lsit\n",
        "        (value, (ploss, floss)), gradient = jax.value_and_grad(loss, has_aux=True)(params, schedDict)\n",
        "        evo[-1]['loss']=float(jax.device_put(value,cpus[0]))\n",
        "        evo[-1]['ploss']=float(jax.device_put(ploss,cpus[0]))\n",
        "        evo[-1]['floss']=float(jax.device_put(floss,cpus[0]))\n",
        "        lsit+=1\n",
        "        if lsit>=9:\n",
        "            raise ValueError(\"CF not converging\")\n",
        "        elif it>=maxIterations or ct>=maxTime or lsit>=6:\n",
        "            return 1000,jnp.zeros_like(gradient)\n",
        "        return value,gradient\n",
        "\n",
        "    def cback(params):\n",
        "        nonlocal evo,schedDict,it,ct,lsit,debug\n",
        "        evo[-1]['params']=np.array(jax.device_put(params,cpus[0]))\n",
        "        ct=datetime.datetime.now()-startt\n",
        "        ct=ct.total_seconds()\n",
        "        evo[-1]['time']=ct\n",
        "        if verbose>0 and it%verbose==0:\n",
        "            print('Iteration '+str(it)+', time '+str(evo[-1]['time'])+': '+str(evo[-1]['loss']))\n",
        "        schedDict=scheduler(it,params,evo[-1]['loss'],evo[-1]['ploss'],ct)\n",
        "        evo.append({'loss':0,'ploss':0,'floss':0,'params':None,'time':0,'schedDict':deepcopy(schedDict)})\n",
        "        it+=1\n",
        "        lsit=0\n",
        "        if debug is not None and it==debug:\n",
        "            del evo[-1]\n",
        "            raise ValueError(\"debug exit\")\n",
        "        return\n",
        "    jsm=jaxopt.ScipyMinimize(method=optimizer,has_aux=False,value_and_grad=True,jit=False,callback=cback,fun=dummyLoss,options=deepcopy(optimizerParameters),tol=0)\n",
        "    if verbose>0:\n",
        "        print('Beginning optimization with '+optimizer)\n",
        "    startt=datetime.datetime.now()\n",
        "    params=init_theta\n",
        "    while it<maxIterations and ct<maxTime:\n",
        "        try:\n",
        "            params,info=jsm.run(params)\n",
        "        except ValueError:\n",
        "            ct=datetime.datetime.now()-startt\n",
        "            ct=ct.total_seconds()\n",
        "            schedDict=scheduler(it,params,evo[-1]['loss'],evo[-1]['ploss'],ct)\n",
        "            pass\n",
        "        if debug is not None and it==debug:\n",
        "            del evo[-1]\n",
        "            return evo\n",
        "    del evo[-1]\n",
        "    ct=datetime.datetime.now()-startt\n",
        "    if verbose>0:\n",
        "        print('Optimization done; final cost function '+str(evo[-1]['loss'])+', time '+str(ct)+', iteration '+str(it))\n",
        "    if outputFile is not None:\n",
        "        f=open(outputFile,'wb')\n",
        "        po={'evo':evo,'globalParamDict':get_globalParamDict()}\n",
        "        pickle.dump(po,f)\n",
        "        f.close()\n",
        "    return evo\n",
        "\n",
        "def innerStep(theta,state,schedDict,opt):\n",
        "    (v, (ploss, floss)),g=jax.value_and_grad(loss,has_aux=True)(jax.lax.stop_gradient(theta.copy()),schedDict) #Compute the value and grad of the user-defined performance loss and the fabrication loss\n",
        "    updates, state = opt.update(len(omegas)*g,state,theta) #Get an update for theta and an updated state from the optimizer\n",
        "    theta = optax.apply_updates(theta, updates) #Apply the update to get the new theta\n",
        "    return theta,state,v,ploss,floss\n",
        "\n",
        "def outerLoss(eta, theta, state,schedDict,etaOrder,opt):\n",
        "    state.hyperparams.update(zip(etaOrder,jax.nn.sigmoid(eta)))\n",
        "    if 'learning_rate' in etaOrder:\n",
        "        state.hyperparams['learning_rate']=learningRate*1.*10**(2*(state.hyperparams['learning_rate']-0.5))\n",
        "    plosses,flosses,losses=[],[],[]\n",
        "    for i in range(innerPerOuter):\n",
        "        theta,state,v,ploss,floss=innerStep(theta,state,schedDict,opt)\n",
        "        plosses.append(ploss)\n",
        "        flosses.append(floss)\n",
        "        losses.append(v)\n",
        "    finalLoss,(finalPloss,finalFloss)=loss(theta,schedDict)\n",
        "    plosses.append(finalPloss)\n",
        "    flosses.append(finalFloss)\n",
        "    losses.append(finalLoss)\n",
        "    return finalLoss,(theta,state,plosses,flosses,losses)\n",
        "\n",
        "def outerStep(eta, theta, meta_state, state,schedDict,etaOrder,opt,metaOpt):\n",
        "    ((v,(theta,state,plosses,flosses,losses)),g) = jax.value_and_grad(outerLoss, has_aux=True)(eta, theta, state,schedDict,etaOrder,opt)\n",
        "    meta_updates, meta_state = metaOpt.update(g, meta_state)\n",
        "    eta = optax.apply_updates(eta, meta_updates)\n",
        "    return eta, theta, v, meta_state, state,plosses,flosses,losses\n",
        "\n",
        "def optimize_optax(optimizerParameters,debug=None):\n",
        "    global gradFac\n",
        "    evo=[]\n",
        "    if schedule is not None and metaOptimizer is None:\n",
        "        opt=optax.inject_hyperparams(optimizers[optimizer.lower()])(learning_rate=schedule,**optimizerParameters)\n",
        "    else:\n",
        "        optimizerParameters['learning_rate']=learningRate\n",
        "        opt=optax.inject_hyperparams(optimizers[optimizer.lower()])(**optimizerParameters)\n",
        "    if metaOptimizer is not None:\n",
        "        staticMetaMetaparameters['learning_rate']=metaLearningRate\n",
        "        metaOpt=optimizers[metaOptimizer.lower()](**staticMetaMetaparameters)\n",
        "        eta,etaOrder=[],[]\n",
        "    params=init_theta.copy()\n",
        "    opt_state = opt.init(params)\n",
        "    eta=[]\n",
        "    for kk in parametersToMetaOptimize:\n",
        "        if kk=='learning_rate':\n",
        "            eta.append(0.)# The LR can vary logarithmically from base/10 to base*10. So, init must be eta=0\n",
        "        else:\n",
        "            eta.append(-np.log(0.2 / (opt_state.hyperparams[kk]-0.8) - 1))\n",
        "    eta=jnp.array(eta)\n",
        "    if metaOptimizer is not None:\n",
        "        meta_state = metaOpt.init(eta)\n",
        "    schedDict=scheduler(0,params,np.inf,np.inf,0)\n",
        "    (value, (ploss, floss)),g=jax.value_and_grad(loss,has_aux=True)(jax.lax.stop_gradient(params.copy()),schedDict)\n",
        "    evo.append({'loss':float(jax.device_put(value,cpus[0])),'ploss':float(jax.device_put(ploss,cpus[0])),'floss':float(jax.device_put(floss,cpus[0])),\n",
        "                        'params':np.array(jax.device_put(params,cpus[0])),'time': 0,'schedDict':deepcopy(schedDict)})\n",
        "    if verbose>0:\n",
        "        print('Beginning optimization with '+optimizer)\n",
        "    startt=datetime.datetime.now()\n",
        "    ct,it,ft,pL=datetime.datetime.now()-startt,0,jnp.inf,jnp.inf\n",
        "    while ct.total_seconds()<=maxTime and it<=maxIterations:# and ft>ftol:\n",
        "        if metaOptimizer is not None:\n",
        "            eta, params, value, meta_state, opt_state,plosses,flosses,losses = outerStep(eta, params, meta_state, opt_state,schedDict,parametersToMetaOptimize,opt,metaOpt)\n",
        "            ct=datetime.datetime.now()-startt\n",
        "            evo.append({'loss':tuple(jax.device_put(losses,cpus[0])),'ploss':tuple(jax.device_put(plosses,cpus[0])),'floss':tuple(jax.device_put(flosses,cpus[0])),\n",
        "                        'params':np.array(jax.device_put(params,cpus[0])),'time':ct.total_seconds(),'schedDict':deepcopy(schedDict),'eta':tuple(jax.device_put(eta,cpus[0])),'learningRate':float(opt_state.hyperparams['learning_rate'])})\n",
        "        else:\n",
        "            params,opt_state,value,ploss,floss=innerStep(params,opt_state,schedDict,opt)\n",
        "            ct=datetime.datetime.now()-startt\n",
        "            evo.append({'loss':float(jax.device_put(value,cpus[0])),'ploss':float(jax.device_put(ploss,cpus[0])),'floss':float(jax.device_put(floss,cpus[0])),\n",
        "                        'params':np.array(jax.device_put(params,cpus[0])),'time':ct.total_seconds(),'schedDict':deepcopy(schedDict),'learningRate':float(opt_state.hyperparams['learning_rate'])})\n",
        "        if verbose>0 and it%verbose==0:\n",
        "            print('Iteration '+str(it)+', time '+str(ct)+': '+str(value)+', LR: '+str(opt_state.hyperparams['learning_rate']))\n",
        "        if debug is not None and it==debug:\n",
        "            return evo\n",
        "        ft=jnp.abs(pL-value)/abs(value)\n",
        "        it+=1\n",
        "        schedDict=scheduler(it,params,value,pL,ct.total_seconds())\n",
        "        pL=value\n",
        "    if verbose>0:\n",
        "        print('Optimization done; final cost function '+str(value)+', time '+str(ct)+', iteration '+str(it-1)+', ftol '+str(ft))\n",
        "    if outputFile is not None:\n",
        "        f=open(outputFile,'wb')\n",
        "        po={'evo':evo,'globalParamDict':get_globalParamDict()}\n",
        "        pickle.dump(po,f)\n",
        "        f.close()\n",
        "    return evo"
      ],
      "metadata": {
        "id": "oOtu9H-E6EJ3"
      },
      "execution_count": 88,
      "outputs": []
    },
    {
      "cell_type": "markdown",
      "source": [
        "## Run Optimization"
      ],
      "metadata": {
        "id": "cuGdpOfjKwbg"
      }
    },
    {
      "cell_type": "code",
      "source": [
        "ev=optimize(staticMetaparameters,debug=None)"
      ],
      "metadata": {
        "colab": {
          "base_uri": "https://localhost:8080/"
        },
        "id": "gVKHAKh5KyhI",
        "outputId": "973b695e-91f4-45eb-fec4-21298e5e067a"
      },
      "execution_count": 73,
      "outputs": [
        {
          "output_type": "stream",
          "name": "stdout",
          "text": [
            "Beginning optimization with adam\n",
            "Iteration 0, time 0:00:02.642730: -0.37069046, LR: 0.009999998\n",
            "Iteration 1, time 0:00:05.296836: -0.40233153, LR: 0.064125\n",
            "Iteration 2, time 0:00:07.960540: -0.6037177, LR: 0.09988732\n",
            "Iteration 3, time 0:00:10.627572: -0.8826083, LR: 0.09823869\n",
            "Iteration 4, time 0:00:13.296966: -1.0881629, LR: 0.0946916\n",
            "Iteration 5, time 0:00:15.967820: -1.228209, LR: 0.089401774\n",
            "Iteration 6, time 0:00:18.635639: -1.3159552, LR: 0.0826015\n",
            "Iteration 7, time 0:00:21.298765: -1.3755691, LR: 0.07458933\n",
            "Iteration 8, time 0:00:23.968054: -1.4227599, LR: 0.06571706\n",
            "Iteration 9, time 0:00:26.635339: -1.4611628, LR: 0.056374222\n",
            "Iteration 10, time 0:00:29.302450: -1.4950337, LR: 0.046971064\n",
            "Iteration 11, time 0:00:31.965456: -1.5228448, LR: 0.037920427\n",
            "Iteration 12, time 0:00:34.624141: -1.5484986, LR: 0.029619694\n",
            "Iteration 13, time 0:00:37.273452: -1.566438, LR: 0.022433331\n",
            "Iteration 14, time 0:00:39.923851: -1.571307, LR: 0.016676862\n",
            "Iteration 15, time 0:00:42.573465: -1.5505915, LR: 0.012603022\n",
            "Iteration 16, time 0:00:45.230133: -1.5130615, LR: 0.010390696\n",
            "Iteration 17, time 0:00:47.894573: -1.4627652, LR: 0.030124992\n",
            "Iteration 18, time 0:00:50.561324: -1.4190339, LR: 0.08424999\n",
            "Iteration 19, time 0:00:53.223593: -1.4342067, LR: 0.09950248\n",
            "Iteration 20, time 0:00:55.890038: -1.4658263, LR: 0.09713495\n",
            "Iteration 21, time 0:00:58.555843: -1.469645, LR: 0.09291741\n",
            "Iteration 22, time 0:01:01.225683: -1.4421945, LR: 0.08703504\n",
            "Iteration 23, time 0:01:03.893834: -1.4187365, LR: 0.07974613\n",
            "Iteration 24, time 0:01:06.562505: -1.4504172, LR: 0.07137068\n",
            "Iteration 25, time 0:01:09.224052: -1.4813147, LR: 0.06227648\n",
            "Iteration 26, time 0:01:11.886787: -1.5015007, LR: 0.05286277\n",
            "Iteration 27, time 0:01:14.537114: -1.5241382, LR: 0.043542907\n",
            "Iteration 28, time 0:01:17.204663: -1.567867, LR: 0.03472609\n",
            "Iteration 29, time 0:01:19.869406: -1.6054735, LR: 0.02679942\n",
            "Iteration 30, time 0:01:22.537587: -1.6362543, LR: 0.020110955\n",
            "Iteration 31, time 0:01:25.202532: -1.651843, LR: 0.014954343\n",
            "Iteration 32, time 0:01:27.865641: -1.6695666, LR: 0.011556\n",
            "Iteration 33, time 0:01:30.528243: -1.6817698, LR: 0.010065143\n",
            "Iteration 34, time 0:01:33.180797: -1.6920067, LR: 0.070374966\n",
            "Iteration 35, time 0:01:35.827188: -1.7423669, LR: 0.09910312\n",
            "Iteration 36, time 0:01:38.472100: -1.7852858, LR: 0.09416601\n",
            "Iteration 37, time 0:01:41.125353: 20.457922, LR: 0.08537743\n",
            "Iteration 38, time 0:01:43.787323: 5.2866964, LR: 0.073601626\n",
            "Iteration 39, time 0:01:46.454683: 0.62237895, LR: 0.059996594\n",
            "Iteration 40, time 0:01:49.121652: -0.84371316, LR: 0.04590021\n",
            "Iteration 41, time 0:01:51.786051: -1.3028085, LR: 0.03269868\n",
            "Iteration 42, time 0:01:54.452345: -1.465794, LR: 0.021690186\n",
            "Iteration 43, time 0:01:57.115246: -1.5634993, LR: 0.01395728\n",
            "Iteration 44, time 0:01:59.776753: -1.6034366, LR: 0.010260386\n",
            "Iteration 45, time 0:02:02.437128: -1.6298977, LR: 0.06343756\n",
            "Optimization done; final cost function -1.6298977, time 0:02:02.437128, iteration 45, ftol 0.016234837\n"
          ]
        }
      ]
    },
    {
      "cell_type": "code",
      "source": [],
      "metadata": {
        "id": "yygzJlMSRG8o"
      },
      "execution_count": null,
      "outputs": []
    }
  ]
}